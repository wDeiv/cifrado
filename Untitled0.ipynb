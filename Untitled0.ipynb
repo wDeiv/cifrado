{
  "nbformat": 4,
  "nbformat_minor": 0,
  "metadata": {
    "colab": {
      "provenance": [],
      "authorship_tag": "ABX9TyP6MeLb0ETMFp6Mlt2gpF3/",
      "include_colab_link": true
    },
    "kernelspec": {
      "name": "python3",
      "display_name": "Python 3"
    },
    "language_info": {
      "name": "python"
    }
  },
  "cells": [
    {
      "cell_type": "markdown",
      "metadata": {
        "id": "view-in-github",
        "colab_type": "text"
      },
      "source": [
        "<a href=\"https://colab.research.google.com/github/wDeiv/cifrado/blob/main/Untitled0.ipynb\" target=\"_parent\"><img src=\"https://colab.research.google.com/assets/colab-badge.svg\" alt=\"Open In Colab\"/></a>"
      ]
    },
    {
      "cell_type": "code",
      "execution_count": 1,
      "metadata": {
        "colab": {
          "base_uri": "https://localhost:8080/"
        },
        "id": "y1i5UBZGtyQH",
        "outputId": "0f565115-30a3-4a10-8c18-cc4b17115ffa"
      },
      "outputs": [
        {
          "output_type": "stream",
          "name": "stdout",
          "text": [
            "Clave AES cifrada con RSA: 5ec2e716ee14a354f6f7f94d7507109805158a8152046d66b34b8f2707fb88216c2801e12acf6cdaf1e9a70413aeffbecca973772ab13e3fe2cb67f34b6137dc054c2a8b4e3501376889bdaf56772d9281e8778edd7ed00b73ade591d9cb4ffae56251d4839aee2b77310106e31fcebdeb271aa4b3f8fca8cb13ca28730f62dcf719df7219aeacb0678781be1fc86a125f7f6236e624f168c08619ffda24a63098aa3f51dec3898fb572b93ea1e1493934ef810d09e147ac3fa9fa1e229b4fc3d4b366ed35f5dd5ea033759447548b5722d75954c3a40e51f1cea46de97a1f9cc13f54de1875c2b7c289bea2948eb533c10055e7c03586b12c34076ea4c98bda\n",
            "Texto cifrado con AES: cf8cff5a8b9e59bdb24dda34729ec7cef198b8dde6f43b8517333f2313fe3e21cd9cbe60eb047e52877f2c8f1a3eb372\n"
          ]
        }
      ],
      "source": [
        "from cryptography.hazmat.primitives.ciphers import Cipher, algorithms, modes\n",
        "from cryptography.hazmat.primitives.asymmetric import rsa, padding\n",
        "from cryptography.hazmat.primitives import serialization, hashes\n",
        "import os\n",
        "\n",
        "aes_key = os.urandom(32)\n",
        "\n",
        "def encrypt_aes(plaintext, key):\n",
        "    iv = os.urandom(16)\n",
        "    cipher = Cipher(algorithms.AES(key), modes.CBC(iv))\n",
        "    encryptor = cipher.encryptor()\n",
        "\n",
        "    padded_plaintext = plaintext + b\" \" * (16 - len(plaintext) % 16)\n",
        "    ciphertext = encryptor.update(padded_plaintext) + encryptor.finalize()\n",
        "\n",
        "    return iv + ciphertext\n",
        "\n",
        "private_key = rsa.generate_private_key(public_exponent=65537, key_size=2048)\n",
        "public_key = private_key.public_key()\n",
        "\n",
        "def encrypt_aes_key(aes_key, public_key):\n",
        "    encrypted_key = public_key.encrypt(\n",
        "        aes_key,\n",
        "        padding.OAEP(\n",
        "            mgf=padding.MGF1(algorithm=hashes.SHA256()),\n",
        "            algorithm=hashes.SHA256(),\n",
        "            label=None\n",
        "        )\n",
        "    )\n",
        "    return encrypted_key\n",
        "\n",
        "plaintext = b\"1234-5678-9012-3456\"\n",
        "ciphertext = encrypt_aes(plaintext, aes_key)\n",
        "encrypted_aes_key = encrypt_aes_key(aes_key, public_key)\n",
        "\n",
        "print(\"Clave AES cifrada con RSA:\", encrypted_aes_key.hex())\n",
        "print(\"Texto cifrado con AES:\", ciphertext.hex())"
      ]
    }
  ]
}